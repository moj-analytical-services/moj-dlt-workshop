{
 "cells": [
  {
   "cell_type": "markdown",
   "metadata": {},
   "source": [
    "Set a pipeline which can fail at each step."
   ]
  },
  {
   "cell_type": "code",
   "execution_count": null,
   "metadata": {},
   "outputs": [],
   "source": [
    "import dlt\n",
    "\n",
    "\n",
    "# define a resource with an intentional failure\n",
    "@dlt.resource(name=\"example_resource\")\n",
    "def example_resource(should_fail_extraction: bool = False):\n",
    "\n",
    "    for i in range(10):\n",
    "        if should_fail_extraction and i == 5:\n",
    "            raise Exception(\"Intentional failure at extraction step (i=5)\")\n",
    "        yield {\"value\": i}\n",
    "\n",
    "def run_pipeline(should_fail_extraction: bool, should_fail_normalization: bool, should_fail_load: bool):\n",
    "    pipeline = dlt.pipeline(\n",
    "        pipeline_name=\"failure_simulation_pipeline\",\n",
    "        destination=\"duckdb\",\n",
    "        dataset_name=\"test_dataset\",\n",
    "        pipelines_dir=\"pipeline_jobs\" # directory to store .dlt files\n",
    "    )\n",
    "\n",
    "    try:\n",
    "        # extract\n",
    "        extraction = pipeline.extract(example_resource(should_fail_extraction=should_fail_extraction))\n",
    "        print(\"Extraction completed successfully.\")\n",
    "        print(f\"Extracted data: {extraction}\")\n",
    "\n",
    "        # normalize\n",
    "        if should_fail_normalization:\n",
    "            def failing_normalize():\n",
    "                raise Exception(\"Intentional failure at normalization step\")\n",
    "            pipeline.normalize = failing_normalize\n",
    "\n",
    "        normalization = pipeline.normalize()\n",
    "        print(\"Normalization completed successfully.\")\n",
    "        print(f\"Normalized data: {normalization}\")\n",
    "\n",
    "        # load\n",
    "        if should_fail_load:\n",
    "            def failing_load():\n",
    "                raise Exception(\"Intentional failure at load step\")\n",
    "            pipeline.load = failing_load\n",
    "\n",
    "        load_result = pipeline.load()\n",
    "        print(\"Load completed successfully.\")\n",
    "        print(f\"Load result: {load_result}\")\n",
    "\n",
    "        print(\"Pipeline completed successfully.\")\n",
    "\n",
    "    except Exception as e:\n",
    "        print(f\"EXCEPTION during pipeline execution: {e}\")\n",
    "\n",
    "    return pipeline\n",
    "\n",
    "# run the pipeline with different failure scenarios\n",
    "my_pipeline = run_pipeline(\n",
    "    should_fail_extraction=False,\n",
    "    should_fail_normalization=False,\n",
    "    should_fail_load=False\n",
    ")\n"
   ]
  },
  {
   "cell_type": "markdown",
   "metadata": {},
   "source": [
    "Print output of loaded data"
   ]
  },
  {
   "cell_type": "code",
   "execution_count": null,
   "metadata": {},
   "outputs": [],
   "source": [
    "with my_pipeline.sql_client() as c:\n",
    "    tables_df = c.execute(\"SHOW TABLES\").df()\n",
    "print(\"TABLES:\")\n",
    "print(tables_df)\n",
    "\n",
    "with my_pipeline.sql_client() as c:\n",
    "    df = c.execute(\"SELECT * FROM example_resource\").df()\n",
    "df"
   ]
  }
 ],
 "metadata": {
  "kernelspec": {
   "display_name": "moj-dlt-workshop-ztOvzMS8-py3.12",
   "language": "python",
   "name": "python3"
  },
  "language_info": {
   "codemirror_mode": {
    "name": "ipython",
    "version": 3
   },
   "file_extension": ".py",
   "mimetype": "text/x-python",
   "name": "python",
   "nbconvert_exporter": "python",
   "pygments_lexer": "ipython3",
   "version": "3.12.8"
  }
 },
 "nbformat": 4,
 "nbformat_minor": 2
}
