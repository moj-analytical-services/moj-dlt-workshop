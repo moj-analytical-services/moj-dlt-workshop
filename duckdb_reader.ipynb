{
 "cells": [
  {
   "cell_type": "code",
   "execution_count": 1,
   "metadata": {},
   "outputs": [],
   "source": [
    "import duckdb"
   ]
  },
  {
   "cell_type": "code",
   "execution_count": 2,
   "metadata": {},
   "outputs": [],
   "source": [
    "conn = duckdb.connect(\"test_pipeline_2.duckdb\")"
   ]
  },
  {
   "cell_type": "code",
   "execution_count": 3,
   "metadata": {},
   "outputs": [
    {
     "data": {
      "text/plain": [
       "┌─────────────────┬──────────────┬────────────────────────────────┬────────────┬─────────────────────┬───────────┬─────────┬───────────────────────┬──────────┬───────────┬─────────────────┬────────────────┬──────────────┬─────────────┬────────────────────────┬──────────────────────────────────────────────────────────────────────────────────────────────────────────────────────────────────────────────────────────────────────────────────────────────────────────────────────────────────────────────────────────────────────────────────────────────────────────────────────────────────────────────────────────────────────────────────────────────────────────┐\n",
       "│  database_name  │ database_oid │          schema_name           │ schema_oid │     table_name      │ table_oid │ comment │         tags          │ internal │ temporary │ has_primary_key │ estimated_size │ column_count │ index_count │ check_constraint_count │                                                                                                                                                                                                   sql                                                                                                                                                                                                    │\n",
       "│     varchar     │    int64     │            varchar             │   int64    │       varchar       │   int64   │ varchar │ map(varchar, varchar) │ boolean  │  boolean  │     boolean     │     int64      │    int64     │    int64    │         int64          │                                                                                                                                                                                                 varchar                                                                                                                                                                                                  │\n",
       "├─────────────────┼──────────────┼────────────────────────────────┼────────────┼─────────────────────┼───────────┼─────────┼───────────────────────┼──────────┼───────────┼─────────────────┼────────────────┼──────────────┼─────────────┼────────────────────────┼──────────────────────────────────────────────────────────────────────────────────────────────────────────────────────────────────────────────────────────────────────────────────────────────────────────────────────────────────────────────────────────────────────────────────────────────────────────────────────────────────────────────────────────────────────────────────────────────────────────┤\n",
       "│ test_pipeline_2 │         1148 │ synthetic_nonsense_duckdb_data │       1157 │ synthetic           │      1159 │ NULL    │ {}                    │ false    │ false     │ false           │           4000 │           14 │           0 │                      0 │ CREATE TABLE synthetic_nonsense_duckdb_data.synthetic(ten_thousands_group VARCHAR, thousands_group VARCHAR, hundreds_group VARCHAR, primary_field VARCHAR, secondary_field VARCHAR, report_type VARCHAR, file_name VARCHAR, file_type VARCHAR, file_size BIGINT, modified TIMESTAMP WITH TIME ZONE, is_archived BOOLEAN, date_created VARCHAR, _dlt_load_id VARCHAR NOT NULL, _dlt_id VARCHAR NOT NULL); │\n",
       "│ test_pipeline_2 │         1148 │ synthetic_nonsense_duckdb_data │       1157 │ _dlt_loads          │      1165 │ NULL    │ {}                    │ false    │ false     │ false           │              1 │            5 │           0 │                      0 │ CREATE TABLE synthetic_nonsense_duckdb_data._dlt_loads(load_id VARCHAR NOT NULL, schema_name VARCHAR, status BIGINT NOT NULL, inserted_at TIMESTAMP WITH TIME ZONE NOT NULL, schema_version_hash VARCHAR);                                                                                                                                                                                               │\n",
       "│ test_pipeline_2 │         1148 │ synthetic_nonsense_duckdb_data │       1157 │ _dlt_pipeline_state │      1171 │ NULL    │ {}                    │ false    │ false     │ false           │              1 │            8 │           0 │                      0 │ CREATE TABLE synthetic_nonsense_duckdb_data._dlt_pipeline_state(\"version\" BIGINT NOT NULL, engine_version BIGINT NOT NULL, pipeline_name VARCHAR NOT NULL, state VARCHAR NOT NULL, created_at TIMESTAMP WITH TIME ZONE NOT NULL, version_hash VARCHAR, _dlt_load_id VARCHAR NOT NULL, _dlt_id VARCHAR NOT NULL);                                                                                         │\n",
       "│ test_pipeline_2 │         1148 │ synthetic_nonsense_duckdb_data │       1157 │ _dlt_version        │      1177 │ NULL    │ {}                    │ false    │ false     │ false           │              1 │            6 │           0 │                      0 │ CREATE TABLE synthetic_nonsense_duckdb_data._dlt_version(\"version\" BIGINT NOT NULL, engine_version BIGINT NOT NULL, inserted_at TIMESTAMP WITH TIME ZONE NOT NULL, schema_name VARCHAR NOT NULL, version_hash VARCHAR NOT NULL, \"schema\" VARCHAR NOT NULL);                                                                                                                                              │\n",
       "└─────────────────┴──────────────┴────────────────────────────────┴────────────┴─────────────────────┴───────────┴─────────┴───────────────────────┴──────────┴───────────┴─────────────────┴────────────────┴──────────────┴─────────────┴────────────────────────┴──────────────────────────────────────────────────────────────────────────────────────────────────────────────────────────────────────────────────────────────────────────────────────────────────────────────────────────────────────────────────────────────────────────────────────────────────────────────────────────────────────────────────────────────────────────────────────────────────────────┘"
      ]
     },
     "execution_count": 3,
     "metadata": {},
     "output_type": "execute_result"
    }
   ],
   "source": [
    "conn.sql(\"select * from duckdb_tables\")"
   ]
  },
  {
   "cell_type": "code",
   "execution_count": null,
   "metadata": {},
   "outputs": [],
   "source": []
  }
 ],
 "metadata": {
  "kernelspec": {
   "display_name": "moj-dlt-workshop-K9kjU9g_-py3.12",
   "language": "python",
   "name": "python3"
  },
  "language_info": {
   "codemirror_mode": {
    "name": "ipython",
    "version": 3
   },
   "file_extension": ".py",
   "mimetype": "text/x-python",
   "name": "python",
   "nbconvert_exporter": "python",
   "pygments_lexer": "ipython3",
   "version": "3.12.5"
  }
 },
 "nbformat": 4,
 "nbformat_minor": 2
}
